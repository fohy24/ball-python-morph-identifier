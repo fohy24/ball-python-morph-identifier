{
 "cells": [
  {
   "cell_type": "code",
   "execution_count": null,
   "metadata": {},
   "outputs": [],
   "source": [
    "import pandas as pd\n",
    "import numpy as np\n",
    "import ast\n",
    "\n",
    "import torch\n",
    "from torch.utils.data import Dataset, DataLoader, Subset\n",
    "from torch import nn, optim\n",
    "from torchvision import datasets, utils, models\n",
    "# from torchinfo import summary\n",
    "import torch.nn.functional as F\n",
    "from torchvision.transforms import v2\n",
    "\n",
    "from sklearn.model_selection import train_test_split\n",
    "import matplotlib.pyplot as plt\n",
    "from PIL import Image\n",
    "import os\n",
    "from tqdm import tqdm\n",
    "import altair as alt\n",
    "alt.data_transformers.enable(\"vegafusion\")\n"
   ]
  },
  {
   "cell_type": "markdown",
   "metadata": {},
   "source": [
    "## Data Cleaning"
   ]
  },
  {
   "cell_type": "code",
   "execution_count": null,
   "metadata": {},
   "outputs": [],
   "source": [
    "# For small dataset\n",
    "# labels = pd.read_csv('data/small_data/labels.csv', index_col=0)\n",
    "# print(labels.shape)\n",
    "# labels.head()"
   ]
  },
  {
   "cell_type": "code",
   "execution_count": null,
   "metadata": {},
   "outputs": [],
   "source": [
    "# for full dataset\n",
    "folder_path = 'data/labels/'\n",
    "\n",
    "# List to hold DataFrames\n",
    "dataframes = []\n",
    "\n",
    "# Loop through all files in the directory\n",
    "for filename in os.listdir(folder_path):\n",
    "    if filename.endswith('.csv'):\n",
    "        # Full path to the file\n",
    "        file_path = os.path.join(folder_path, filename)\n",
    "        # Read the CSV file and append to the list\n",
    "        df = pd.read_csv(file_path, index_col=0)\n",
    "        dataframes.append(df)\n",
    "\n",
    "# Concatenate all the DataFrames in the list\n",
    "labels = pd.concat(dataframes, ignore_index=True)\n",
    "print(labels.shape)\n",
    "labels.head()"
   ]
  },
  {
   "cell_type": "code",
   "execution_count": null,
   "metadata": {},
   "outputs": [],
   "source": [
    "clean_img_code = []\n",
    "for img_code in labels['index']:\n",
    "    try:\n",
    "        Image.open(f\"data/img/{img_code}.png\")\n",
    "        clean_img_code.append(img_code)\n",
    "    except:\n",
    "        continue\n",
    "print(f'{len(clean_img_code)} rows found corresponding image')\n",
    "labels = labels[labels['index'].isin(clean_img_code)]\n",
    "labels.reset_index(inplace=True, drop=True)\n",
    "print(labels.shape)"
   ]
  },
  {
   "cell_type": "code",
   "execution_count": null,
   "metadata": {},
   "outputs": [],
   "source": [
    "# 'Normal' if there is no genes\n",
    "labels.loc[labels[\"genes\"] == \"[]\", \"genes\"] = '[\"Normal\"]'"
   ]
  },
  {
   "cell_type": "markdown",
   "metadata": {},
   "source": [
    "Remove heterozygous genes"
   ]
  },
  {
   "cell_type": "code",
   "execution_count": null,
   "metadata": {},
   "outputs": [],
   "source": [
    "clean_genes = []\n",
    "list_genes = [ast.literal_eval(gene) for gene in labels['genes']]\n",
    "\n",
    "list_genes_no_het = [\n",
    "    [item for item in sublist if 'het' not in item.lower()]\n",
    "    for sublist in list_genes\n",
    "]\n",
    "\n",
    "list_genes_no_het = [['Normal'] if not sublist else sublist for sublist in list_genes_no_het]\n",
    "\n",
    "labels['genes'] = list_genes_no_het\n",
    "\n",
    "for lst in list_genes_no_het:\n",
    "    for element in lst:\n",
    "        clean_genes.append(element)\n",
    "\n",
    "\n",
    "clean_possible_genes = list(set(clean_genes))\n",
    "print(f'Number of possible genes: {len(clean_possible_genes)}')\n",
    "clean_possible_genes[:5]"
   ]
  },
  {
   "cell_type": "code",
   "execution_count": null,
   "metadata": {},
   "outputs": [],
   "source": [
    "gene_extension_df = pd.DataFrame(np.zeros([labels.shape[0], len(clean_possible_genes)]), dtype=int, columns=clean_possible_genes)\n",
    "labels_extended = pd.concat([labels, gene_extension_df], axis=1)\n",
    "print(labels_extended.shape)\n",
    "labels_extended.head()"
   ]
  },
  {
   "cell_type": "code",
   "execution_count": null,
   "metadata": {},
   "outputs": [],
   "source": [
    "len([len(lst) for lst in list_genes])"
   ]
  },
  {
   "cell_type": "code",
   "execution_count": null,
   "metadata": {},
   "outputs": [],
   "source": [
    "len(labels_extended)"
   ]
  },
  {
   "cell_type": "code",
   "execution_count": null,
   "metadata": {},
   "outputs": [],
   "source": [
    "num_genes_not_het = [len(lst) for lst in list_genes_no_het]\n",
    "start_row = 0\n",
    "count = 0\n",
    "for gene_col in clean_genes:\n",
    "    labels_extended.loc[start_row, gene_col] = 1\n",
    "    count += 1\n",
    "    if count == num_genes_not_het[start_row]:\n",
    "        start_row += 1\n",
    "        count = 0\n",
    "print(labels_extended.shape)\n",
    "labels_extended.head()"
   ]
  },
  {
   "cell_type": "code",
   "execution_count": null,
   "metadata": {},
   "outputs": [],
   "source": [
    "assert list(labels_extended.select_dtypes('int').sum(axis=1)) == [len(lst) for lst in list_genes_no_het]"
   ]
  }
 ],
 "metadata": {
  "language_info": {
   "name": "python"
  }
 },
 "nbformat": 4,
 "nbformat_minor": 2
}
